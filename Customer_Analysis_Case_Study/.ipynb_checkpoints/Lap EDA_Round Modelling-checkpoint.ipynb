{
 "cells": [
  {
   "cell_type": "markdown",
   "id": "efe56396",
   "metadata": {},
   "source": [
    "# Lap EDA_Round Modelling"
   ]
  },
  {
   "cell_type": "code",
   "execution_count": 504,
   "id": "227b6303",
   "metadata": {},
   "outputs": [],
   "source": [
    "import numpy as np\n",
    "import pandas as pd\n",
    "import matplotlib.pyplot as plt\n",
    "%matplotlib inline\n",
    "import seaborn as sns\n",
    "from sklearn.preprocessing import StandardScaler\n",
    "from sklearn.preprocessing import QuantileTransformer\n",
    "from sklearn.preprocessing import minmax_scale\n",
    "from sklearn.preprocessing import OneHotEncoder  ##. better to use dummy from pandas \n",
    "from sklearn.preprocessing import PowerTransformer\n",
    "from scipy.stats import boxcox\n",
    "from sklearn.linear_model import LinearRegression\n",
    "from sklearn.model_selection import train_test_split\n",
    "import statsmodels.api as sm\n",
    "from scipy.stats import boxcox\n",
    "from sklearn.model_selection import train_test_split\n",
    "from sklearn.metrics import r2_score\n",
    "from sklearn.metrics import mean_squared_error as mse\n",
    "from sklearn.metrics import mean_absolute_error as mae\n",
    "pd.options.display.max_rows = 50\n",
    "## Install xlrd package to load Excel files\n",
    "# conda install openpyxl\n",
    "## conda install xlrd"
   ]
  },
  {
   "cell_type": "markdown",
   "id": "11256920",
   "metadata": {},
   "source": [
    "## loading cleaning data"
   ]
  },
  {
   "cell_type": "code",
   "execution_count": 505,
   "id": "788d3b39",
   "metadata": {},
   "outputs": [],
   "source": [
    "ca_df=pd.read_csv(\"Data/Data_Marketing_Customer_Analysis_Round2.csv\")"
   ]
  },
  {
   "cell_type": "code",
   "execution_count": 506,
   "id": "cde218cf",
   "metadata": {},
   "outputs": [
    {
     "data": {
      "text/plain": [
       "Index(['Unnamed: 0', 'Customer', 'State', 'Customer Lifetime Value',\n",
       "       'Response', 'Coverage', 'Education', 'Effective To Date',\n",
       "       'EmploymentStatus', 'Gender', 'Income', 'Location Code',\n",
       "       'Marital Status', 'Monthly Premium Auto', 'Months Since Last Claim',\n",
       "       'Months Since Policy Inception', 'Number of Open Complaints',\n",
       "       'Number of Policies', 'Policy Type', 'Policy', 'Renew Offer Type',\n",
       "       'Sales Channel', 'Total Claim Amount', 'Vehicle Class', 'Vehicle Size',\n",
       "       'Vehicle Type'],\n",
       "      dtype='object')"
      ]
     },
     "execution_count": 506,
     "metadata": {},
     "output_type": "execute_result"
    }
   ],
   "source": [
    "ca_df.columns"
   ]
  },
  {
   "cell_type": "code",
   "execution_count": 507,
   "id": "e32fa007",
   "metadata": {},
   "outputs": [],
   "source": [
    "# droping Unnamed Column\n",
    "\n",
    "ca_df.drop(['Unnamed: 0'],axis=1, inplace=True)"
   ]
  },
  {
   "cell_type": "code",
   "execution_count": 508,
   "id": "16cae8f3",
   "metadata": {},
   "outputs": [],
   "source": [
    "# droping duplicates\n",
    "\n",
    "ca_df.drop_duplicates(inplace=True)"
   ]
  },
  {
   "cell_type": "code",
   "execution_count": 509,
   "id": "b6686886",
   "metadata": {},
   "outputs": [
    {
     "data": {
      "text/plain": [
       "Customer                          0.00\n",
       "State                             5.65\n",
       "Customer Lifetime Value           0.00\n",
       "Response                          5.65\n",
       "Coverage                          0.00\n",
       "Education                         0.00\n",
       "Effective To Date                 0.00\n",
       "EmploymentStatus                  0.00\n",
       "Gender                            0.00\n",
       "Income                            0.00\n",
       "Location Code                     0.00\n",
       "Marital Status                    0.00\n",
       "Monthly Premium Auto              0.00\n",
       "Months Since Last Claim           5.73\n",
       "Months Since Policy Inception     0.00\n",
       "Number of Open Complaints         5.73\n",
       "Number of Policies                0.00\n",
       "Policy Type                       0.00\n",
       "Policy                            0.00\n",
       "Renew Offer Type                  0.00\n",
       "Sales Channel                     0.00\n",
       "Total Claim Amount                0.00\n",
       "Vehicle Class                     5.59\n",
       "Vehicle Size                      5.59\n",
       "Vehicle Type                     50.26\n",
       "dtype: float64"
      ]
     },
     "execution_count": 509,
     "metadata": {},
     "output_type": "execute_result"
    }
   ],
   "source": [
    "# shows the percentage of null values in a column\n",
    "\n",
    "round(ca_df.isna().sum()/len(ca_df),4)*100"
   ]
  },
  {
   "cell_type": "code",
   "execution_count": 510,
   "id": "1319a1dd",
   "metadata": {},
   "outputs": [],
   "source": [
    "# droping null values\n",
    "\n",
    "ca_df[\"Number of Open Complaints\"].replace(0, np.nan, inplace=True)\n",
    "\n",
    "#ca_df[ca_df['Income'].isna()==True]\n",
    "#ca_df.dropna(subset=['Income'], inplace=True)"
   ]
  },
  {
   "cell_type": "code",
   "execution_count": 519,
   "id": "8cd65dee",
   "metadata": {},
   "outputs": [],
   "source": [
    "ca_df[\"Income\"].replace(0, np.nan, inplace=True)"
   ]
  },
  {
   "cell_type": "code",
   "execution_count": 521,
   "id": "df5ee6ba",
   "metadata": {},
   "outputs": [],
   "source": [
    "ca_df['Number of Policies'].replace(0, np.nan, inplace=True) "
   ]
  },
  {
   "cell_type": "markdown",
   "id": "3c73d345",
   "metadata": {},
   "source": [
    "## X Y split"
   ]
  },
  {
   "cell_type": "code",
   "execution_count": 515,
   "id": "aaada731",
   "metadata": {},
   "outputs": [],
   "source": [
    "X=ca_df.drop(\"Total Claim Amount\", axis=1)\n",
    "y=ca_df[\"Total Claim Amount\"]"
   ]
  },
  {
   "cell_type": "code",
   "execution_count": 516,
   "id": "49e7480f",
   "metadata": {},
   "outputs": [
    {
     "data": {
      "text/html": [
       "<div>\n",
       "<style scoped>\n",
       "    .dataframe tbody tr th:only-of-type {\n",
       "        vertical-align: middle;\n",
       "    }\n",
       "\n",
       "    .dataframe tbody tr th {\n",
       "        vertical-align: top;\n",
       "    }\n",
       "\n",
       "    .dataframe thead th {\n",
       "        text-align: right;\n",
       "    }\n",
       "</style>\n",
       "<table border=\"1\" class=\"dataframe\">\n",
       "  <thead>\n",
       "    <tr style=\"text-align: right;\">\n",
       "      <th></th>\n",
       "      <th>Customer Lifetime Value</th>\n",
       "      <th>Income</th>\n",
       "      <th>Monthly Premium Auto</th>\n",
       "      <th>Months Since Last Claim</th>\n",
       "      <th>Months Since Policy Inception</th>\n",
       "      <th>Number of Open Complaints</th>\n",
       "      <th>Number of Policies</th>\n",
       "    </tr>\n",
       "  </thead>\n",
       "  <tbody>\n",
       "    <tr>\n",
       "      <th>0</th>\n",
       "      <td>4809.216960</td>\n",
       "      <td>48029</td>\n",
       "      <td>61</td>\n",
       "      <td>7.0</td>\n",
       "      <td>52</td>\n",
       "      <td>NaN</td>\n",
       "      <td>9</td>\n",
       "    </tr>\n",
       "    <tr>\n",
       "      <th>1</th>\n",
       "      <td>2228.525238</td>\n",
       "      <td>0</td>\n",
       "      <td>64</td>\n",
       "      <td>3.0</td>\n",
       "      <td>26</td>\n",
       "      <td>NaN</td>\n",
       "      <td>1</td>\n",
       "    </tr>\n",
       "    <tr>\n",
       "      <th>2</th>\n",
       "      <td>14947.917300</td>\n",
       "      <td>22139</td>\n",
       "      <td>100</td>\n",
       "      <td>34.0</td>\n",
       "      <td>31</td>\n",
       "      <td>NaN</td>\n",
       "      <td>2</td>\n",
       "    </tr>\n",
       "    <tr>\n",
       "      <th>3</th>\n",
       "      <td>22332.439460</td>\n",
       "      <td>49078</td>\n",
       "      <td>97</td>\n",
       "      <td>10.0</td>\n",
       "      <td>3</td>\n",
       "      <td>NaN</td>\n",
       "      <td>2</td>\n",
       "    </tr>\n",
       "    <tr>\n",
       "      <th>4</th>\n",
       "      <td>9025.067525</td>\n",
       "      <td>23675</td>\n",
       "      <td>117</td>\n",
       "      <td>NaN</td>\n",
       "      <td>31</td>\n",
       "      <td>NaN</td>\n",
       "      <td>7</td>\n",
       "    </tr>\n",
       "    <tr>\n",
       "      <th>...</th>\n",
       "      <td>...</td>\n",
       "      <td>...</td>\n",
       "      <td>...</td>\n",
       "      <td>...</td>\n",
       "      <td>...</td>\n",
       "      <td>...</td>\n",
       "      <td>...</td>\n",
       "    </tr>\n",
       "    <tr>\n",
       "      <th>10905</th>\n",
       "      <td>15563.369440</td>\n",
       "      <td>0</td>\n",
       "      <td>253</td>\n",
       "      <td>NaN</td>\n",
       "      <td>40</td>\n",
       "      <td>NaN</td>\n",
       "      <td>7</td>\n",
       "    </tr>\n",
       "    <tr>\n",
       "      <th>10906</th>\n",
       "      <td>5259.444853</td>\n",
       "      <td>61146</td>\n",
       "      <td>65</td>\n",
       "      <td>7.0</td>\n",
       "      <td>68</td>\n",
       "      <td>NaN</td>\n",
       "      <td>6</td>\n",
       "    </tr>\n",
       "    <tr>\n",
       "      <th>10907</th>\n",
       "      <td>23893.304100</td>\n",
       "      <td>39837</td>\n",
       "      <td>201</td>\n",
       "      <td>11.0</td>\n",
       "      <td>63</td>\n",
       "      <td>NaN</td>\n",
       "      <td>2</td>\n",
       "    </tr>\n",
       "    <tr>\n",
       "      <th>10908</th>\n",
       "      <td>11971.977650</td>\n",
       "      <td>64195</td>\n",
       "      <td>158</td>\n",
       "      <td>0.0</td>\n",
       "      <td>27</td>\n",
       "      <td>4.0</td>\n",
       "      <td>6</td>\n",
       "    </tr>\n",
       "    <tr>\n",
       "      <th>10909</th>\n",
       "      <td>6857.519928</td>\n",
       "      <td>0</td>\n",
       "      <td>101</td>\n",
       "      <td>31.0</td>\n",
       "      <td>1</td>\n",
       "      <td>NaN</td>\n",
       "      <td>3</td>\n",
       "    </tr>\n",
       "  </tbody>\n",
       "</table>\n",
       "<p>10873 rows × 7 columns</p>\n",
       "</div>"
      ],
      "text/plain": [
       "       Customer Lifetime Value  Income  Monthly Premium Auto  \\\n",
       "0                  4809.216960   48029                    61   \n",
       "1                  2228.525238       0                    64   \n",
       "2                 14947.917300   22139                   100   \n",
       "3                 22332.439460   49078                    97   \n",
       "4                  9025.067525   23675                   117   \n",
       "...                        ...     ...                   ...   \n",
       "10905             15563.369440       0                   253   \n",
       "10906              5259.444853   61146                    65   \n",
       "10907             23893.304100   39837                   201   \n",
       "10908             11971.977650   64195                   158   \n",
       "10909              6857.519928       0                   101   \n",
       "\n",
       "       Months Since Last Claim  Months Since Policy Inception  \\\n",
       "0                          7.0                             52   \n",
       "1                          3.0                             26   \n",
       "2                         34.0                             31   \n",
       "3                         10.0                              3   \n",
       "4                          NaN                             31   \n",
       "...                        ...                            ...   \n",
       "10905                      NaN                             40   \n",
       "10906                      7.0                             68   \n",
       "10907                     11.0                             63   \n",
       "10908                      0.0                             27   \n",
       "10909                     31.0                              1   \n",
       "\n",
       "       Number of Open Complaints  Number of Policies  \n",
       "0                            NaN                   9  \n",
       "1                            NaN                   1  \n",
       "2                            NaN                   2  \n",
       "3                            NaN                   2  \n",
       "4                            NaN                   7  \n",
       "...                          ...                 ...  \n",
       "10905                        NaN                   7  \n",
       "10906                        NaN                   6  \n",
       "10907                        NaN                   2  \n",
       "10908                        4.0                   6  \n",
       "10909                        NaN                   3  \n",
       "\n",
       "[10873 rows x 7 columns]"
      ]
     },
     "execution_count": 516,
     "metadata": {},
     "output_type": "execute_result"
    }
   ],
   "source": [
    "X=X._get_numeric_data()\n",
    "X"
   ]
  },
  {
   "cell_type": "code",
   "execution_count": 493,
   "id": "c24c704c",
   "metadata": {},
   "outputs": [
    {
     "data": {
      "text/plain": [
       "array([[<AxesSubplot:title={'center':'Customer Lifetime Value'}>,\n",
       "        <AxesSubplot:title={'center':'Income'}>,\n",
       "        <AxesSubplot:title={'center':'Monthly Premium Auto'}>],\n",
       "       [<AxesSubplot:title={'center':'Months Since Last Claim'}>,\n",
       "        <AxesSubplot:title={'center':'Months Since Policy Inception'}>,\n",
       "        <AxesSubplot:title={'center':'Number of Open Complaints'}>],\n",
       "       [<AxesSubplot:title={'center':'Number of Policies'}>,\n",
       "        <AxesSubplot:>, <AxesSubplot:>]], dtype=object)"
      ]
     },
     "execution_count": 493,
     "metadata": {},
     "output_type": "execute_result"
    },
    {
     "data": {
      "image/png": "[encoded data removed]",
      "text/plain": [
       "<Figure size 720x720 with 9 Axes>"
      ]
     },
     "metadata": {
      "needs_background": "light"
     },
     "output_type": "display_data"
    }
   ],
   "source": [
    "X.hist(figsize=(10,10))"
   ]
  },
  {
   "cell_type": "markdown",
   "id": "5b8a530f",
   "metadata": {},
   "source": [
    "## Data Transformation"
   ]
  },
  {
   "cell_type": "code",
   "execution_count": 525,
   "id": "bd30de13",
   "metadata": {},
   "outputs": [
    {
     "data": {
      "text/plain": [
       "<seaborn.axisgrid.FacetGrid at 0x7fcfabe63130>"
      ]
     },
     "execution_count": 525,
     "metadata": {},
     "output_type": "execute_result"
    },
    {
     "data": {
      "image/png": "[encoded data removed]",
      "text/plain": [
       "<Figure size 402.375x360 with 1 Axes>"
      ]
     },
     "metadata": {
      "needs_background": "light"
     },
     "output_type": "display_data"
    }
   ],
   "source": [
    "qt = QuantileTransformer(output_distribution=\"normal\")\n",
    "Income_transformed=qt.fit_transform(ca_df['Income'].to_numpy().reshape(-1,1))\n",
    "sns.displot(Income_transformed)"
   ]
  },
  {
   "cell_type": "code",
   "execution_count": 495,
   "id": "fce3563f",
   "metadata": {},
   "outputs": [
    {
     "data": {
      "text/plain": [
       "<seaborn.axisgrid.FacetGrid at 0x7fcfdb968610>"
      ]
     },
     "execution_count": 495,
     "metadata": {},
     "output_type": "execute_result"
    },
    {
     "data": {
      "image/png": "[encoded data removed]",
      "text/plain": [
       "<Figure size 402.375x360 with 1 Axes>"
      ]
     },
     "metadata": {
      "needs_background": "light"
     },
     "output_type": "display_data"
    }
   ],
   "source": [
    "qt = QuantileTransformer(output_distribution=\"normal\")\n",
    "CLV_transformed=qt.fit_transform(ca_df['Customer Lifetime Value'].to_numpy().reshape(-1,1))\n",
    "sns.displot(CLV_transformed)\n",
    "\n",
    "qt = QuantileTransformer(output_distribution=\"normal\")\n",
    "CLV_transformed=qt.fit(ca_df['Customer Lifetime Value'].to_numpy().reshape(-1,1))\n",
    "sns.displot(CLV_transformed) ## x_train use fit --> then apply it for x_train and x_test\n"
   ]
  },
  {
   "cell_type": "code",
   "execution_count": 496,
   "id": "395e6258",
   "metadata": {
    "scrolled": true
   },
   "outputs": [
    {
     "data": {
      "text/plain": [
       "<seaborn.axisgrid.FacetGrid at 0x7fcfca3a9e50>"
      ]
     },
     "execution_count": 496,
     "metadata": {},
     "output_type": "execute_result"
    },
    {
     "data": {
      "image/png": "[encoded data removed]",
      "text/plain": [
       "<Figure size 402.375x360 with 1 Axes>"
      ]
     },
     "metadata": {
      "needs_background": "light"
     },
     "output_type": "display_data"
    }
   ],
   "source": [
    "qt = QuantileTransformer(output_distribution=\"normal\")\n",
    "Mon_Prem_Auto_transformed=qt.fit_transform(ca_df['Monthly Premium Auto'].to_numpy().reshape(-1,1))\n",
    "sns.displot(Mon_Prem_Auto_transformed)"
   ]
  },
  {
   "cell_type": "code",
   "execution_count": 497,
   "id": "816137c2",
   "metadata": {},
   "outputs": [
    {
     "data": {
      "text/plain": [
       "<seaborn.axisgrid.FacetGrid at 0x7fcf9b1128e0>"
      ]
     },
     "execution_count": 497,
     "metadata": {},
     "output_type": "execute_result"
    },
    {
     "data": {
      "image/png": "[encoded data removed]",
      "text/plain": [
       "<Figure size 402.375x360 with 1 Axes>"
      ]
     },
     "metadata": {
      "needs_background": "light"
     },
     "output_type": "display_data"
    }
   ],
   "source": [
    "qt = QuantileTransformer(output_distribution=\"normal\")\n",
    "MSLC_transformed=qt.fit_transform(ca_df['Months Since Last Claim'].to_numpy().reshape(-1,1))\n",
    "sns.displot(MSLC_transformed)"
   ]
  },
  {
   "cell_type": "code",
   "execution_count": 498,
   "id": "47ec9169",
   "metadata": {},
   "outputs": [
    {
     "data": {
      "text/plain": [
       "<seaborn.axisgrid.FacetGrid at 0x7fcfdbff4fd0>"
      ]
     },
     "execution_count": 498,
     "metadata": {},
     "output_type": "execute_result"
    },
    {
     "data": {
      "image/png": "[encoded data removed]",
      "text/plain": [
       "<Figure size 402.375x360 with 1 Axes>"
      ]
     },
     "metadata": {
      "needs_background": "light"
     },
     "output_type": "display_data"
    }
   ],
   "source": [
    "qt = QuantileTransformer(output_distribution=\"normal\")\n",
    "MPA_transformed=qt.fit_transform(ca_df['Months Since Policy Inception'].to_numpy().reshape(-1,1))\n",
    "sns.displot(MPA_transformed)"
   ]
  },
  {
   "cell_type": "code",
   "execution_count": 524,
   "id": "9cf1c3a3",
   "metadata": {},
   "outputs": [
    {
     "data": {
      "text/plain": [
       "<seaborn.axisgrid.FacetGrid at 0x7fcfabdd5f10>"
      ]
     },
     "execution_count": 524,
     "metadata": {},
     "output_type": "execute_result"
    },
    {
     "data": {
      "image/png": "[encoded data removed]",
      "text/plain": [
       "<Figure size 402.375x360 with 1 Axes>"
      ]
     },
     "metadata": {
      "needs_background": "light"
     },
     "output_type": "display_data"
    }
   ],
   "source": [
    "sc = StandardScaler()\n",
    "Num_Open_Compl_scaled=sc.fit_transform(ca_df['Number of Open Complaints'].to_numpy().reshape(-1,1))\n",
    "sns.displot(Num_Open_Compl_scaled)"
   ]
  },
  {
   "cell_type": "code",
   "execution_count": 523,
   "id": "917efdc3",
   "metadata": {},
   "outputs": [
    {
     "data": {
      "text/plain": [
       "<seaborn.axisgrid.FacetGrid at 0x7fcfd3fa6220>"
      ]
     },
     "execution_count": 523,
     "metadata": {},
     "output_type": "execute_result"
    },
    {
     "data": {
      "image/png": "[encoded data removed]",
      "text/plain": [
       "<Figure size 402.375x360 with 1 Axes>"
      ]
     },
     "metadata": {
      "needs_background": "light"
     },
     "output_type": "display_data"
    }
   ],
   "source": [
    "sc = StandardScaler()\n",
    "Num_Policy_scaled=sc.fit_transform(ca_df['Number of Policies'].to_numpy().reshape(-1,1))\n",
    "sns.displot(Num_Policy_scaled)"
   ]
  },
  {
   "cell_type": "markdown",
   "id": "627ac991",
   "metadata": {},
   "source": [
    "## Hot coding Categorical Variables"
   ]
  },
  {
   "cell_type": "code",
   "execution_count": 501,
   "id": "d6117a96",
   "metadata": {},
   "outputs": [],
   "source": [
    "ca_df.drop(['Customer'],axis=1, inplace=True)"
   ]
  },
  {
   "cell_type": "code",
   "execution_count": 502,
   "id": "7bf99b52",
   "metadata": {},
   "outputs": [
    {
     "data": {
      "text/html": [
       "<div>\n",
       "<style scoped>\n",
       "    .dataframe tbody tr th:only-of-type {\n",
       "        vertical-align: middle;\n",
       "    }\n",
       "\n",
       "    .dataframe tbody tr th {\n",
       "        vertical-align: top;\n",
       "    }\n",
       "\n",
       "    .dataframe thead th {\n",
       "        text-align: right;\n",
       "    }\n",
       "</style>\n",
       "<table border=\"1\" class=\"dataframe\">\n",
       "  <thead>\n",
       "    <tr style=\"text-align: right;\">\n",
       "      <th></th>\n",
       "      <th>State</th>\n",
       "      <th>Response</th>\n",
       "      <th>Coverage</th>\n",
       "      <th>Education</th>\n",
       "      <th>Effective To Date</th>\n",
       "      <th>EmploymentStatus</th>\n",
       "      <th>Gender</th>\n",
       "      <th>Location Code</th>\n",
       "      <th>Marital Status</th>\n",
       "      <th>Policy Type</th>\n",
       "      <th>Policy</th>\n",
       "      <th>Renew Offer Type</th>\n",
       "      <th>Sales Channel</th>\n",
       "      <th>Vehicle Class</th>\n",
       "      <th>Vehicle Size</th>\n",
       "      <th>Vehicle Type</th>\n",
       "    </tr>\n",
       "  </thead>\n",
       "  <tbody>\n",
       "    <tr>\n",
       "      <th>0</th>\n",
       "      <td>Arizona</td>\n",
       "      <td>No</td>\n",
       "      <td>Basic</td>\n",
       "      <td>College</td>\n",
       "      <td>2/18/11</td>\n",
       "      <td>Employed</td>\n",
       "      <td>M</td>\n",
       "      <td>Suburban</td>\n",
       "      <td>Married</td>\n",
       "      <td>Corporate Auto</td>\n",
       "      <td>Corporate L3</td>\n",
       "      <td>Offer3</td>\n",
       "      <td>Agent</td>\n",
       "      <td>Four-Door Car</td>\n",
       "      <td>Medsize</td>\n",
       "      <td>NaN</td>\n",
       "    </tr>\n",
       "    <tr>\n",
       "      <th>1</th>\n",
       "      <td>California</td>\n",
       "      <td>No</td>\n",
       "      <td>Basic</td>\n",
       "      <td>College</td>\n",
       "      <td>1/18/11</td>\n",
       "      <td>Unemployed</td>\n",
       "      <td>F</td>\n",
       "      <td>Suburban</td>\n",
       "      <td>Single</td>\n",
       "      <td>Personal Auto</td>\n",
       "      <td>Personal L3</td>\n",
       "      <td>Offer4</td>\n",
       "      <td>Call Center</td>\n",
       "      <td>Four-Door Car</td>\n",
       "      <td>Medsize</td>\n",
       "      <td>NaN</td>\n",
       "    </tr>\n",
       "    <tr>\n",
       "      <th>2</th>\n",
       "      <td>Washington</td>\n",
       "      <td>No</td>\n",
       "      <td>Basic</td>\n",
       "      <td>Bachelor</td>\n",
       "      <td>2/10/11</td>\n",
       "      <td>Employed</td>\n",
       "      <td>M</td>\n",
       "      <td>Suburban</td>\n",
       "      <td>Single</td>\n",
       "      <td>Personal Auto</td>\n",
       "      <td>Personal L3</td>\n",
       "      <td>Offer3</td>\n",
       "      <td>Call Center</td>\n",
       "      <td>SUV</td>\n",
       "      <td>Medsize</td>\n",
       "      <td>A</td>\n",
       "    </tr>\n",
       "    <tr>\n",
       "      <th>3</th>\n",
       "      <td>Oregon</td>\n",
       "      <td>Yes</td>\n",
       "      <td>Extended</td>\n",
       "      <td>College</td>\n",
       "      <td>1/11/11</td>\n",
       "      <td>Employed</td>\n",
       "      <td>M</td>\n",
       "      <td>Suburban</td>\n",
       "      <td>Single</td>\n",
       "      <td>Corporate Auto</td>\n",
       "      <td>Corporate L3</td>\n",
       "      <td>Offer2</td>\n",
       "      <td>Branch</td>\n",
       "      <td>Four-Door Car</td>\n",
       "      <td>Medsize</td>\n",
       "      <td>A</td>\n",
       "    </tr>\n",
       "    <tr>\n",
       "      <th>4</th>\n",
       "      <td>Oregon</td>\n",
       "      <td>No</td>\n",
       "      <td>Premium</td>\n",
       "      <td>Bachelor</td>\n",
       "      <td>1/17/11</td>\n",
       "      <td>Medical Leave</td>\n",
       "      <td>F</td>\n",
       "      <td>Suburban</td>\n",
       "      <td>Married</td>\n",
       "      <td>Personal Auto</td>\n",
       "      <td>Personal L2</td>\n",
       "      <td>Offer1</td>\n",
       "      <td>Branch</td>\n",
       "      <td>Four-Door Car</td>\n",
       "      <td>Medsize</td>\n",
       "      <td>NaN</td>\n",
       "    </tr>\n",
       "    <tr>\n",
       "      <th>...</th>\n",
       "      <td>...</td>\n",
       "      <td>...</td>\n",
       "      <td>...</td>\n",
       "      <td>...</td>\n",
       "      <td>...</td>\n",
       "      <td>...</td>\n",
       "      <td>...</td>\n",
       "      <td>...</td>\n",
       "      <td>...</td>\n",
       "      <td>...</td>\n",
       "      <td>...</td>\n",
       "      <td>...</td>\n",
       "      <td>...</td>\n",
       "      <td>...</td>\n",
       "      <td>...</td>\n",
       "      <td>...</td>\n",
       "    </tr>\n",
       "    <tr>\n",
       "      <th>10905</th>\n",
       "      <td>Nevada</td>\n",
       "      <td>No</td>\n",
       "      <td>Premium</td>\n",
       "      <td>Bachelor</td>\n",
       "      <td>1/19/11</td>\n",
       "      <td>Unemployed</td>\n",
       "      <td>F</td>\n",
       "      <td>Suburban</td>\n",
       "      <td>Married</td>\n",
       "      <td>Personal Auto</td>\n",
       "      <td>Personal L1</td>\n",
       "      <td>Offer3</td>\n",
       "      <td>Web</td>\n",
       "      <td>Luxury Car</td>\n",
       "      <td>Medsize</td>\n",
       "      <td>A</td>\n",
       "    </tr>\n",
       "    <tr>\n",
       "      <th>10906</th>\n",
       "      <td>Oregon</td>\n",
       "      <td>No</td>\n",
       "      <td>Basic</td>\n",
       "      <td>College</td>\n",
       "      <td>1/6/11</td>\n",
       "      <td>Employed</td>\n",
       "      <td>F</td>\n",
       "      <td>Urban</td>\n",
       "      <td>Married</td>\n",
       "      <td>Personal Auto</td>\n",
       "      <td>Personal L3</td>\n",
       "      <td>Offer2</td>\n",
       "      <td>Branch</td>\n",
       "      <td>Four-Door Car</td>\n",
       "      <td>Medsize</td>\n",
       "      <td>A</td>\n",
       "    </tr>\n",
       "    <tr>\n",
       "      <th>10907</th>\n",
       "      <td>Arizona</td>\n",
       "      <td>No</td>\n",
       "      <td>Extended</td>\n",
       "      <td>Bachelor</td>\n",
       "      <td>2/6/11</td>\n",
       "      <td>Employed</td>\n",
       "      <td>F</td>\n",
       "      <td>Rural</td>\n",
       "      <td>Married</td>\n",
       "      <td>Corporate Auto</td>\n",
       "      <td>Corporate L3</td>\n",
       "      <td>Offer1</td>\n",
       "      <td>Web</td>\n",
       "      <td>Luxury SUV</td>\n",
       "      <td>Medsize</td>\n",
       "      <td>NaN</td>\n",
       "    </tr>\n",
       "    <tr>\n",
       "      <th>10908</th>\n",
       "      <td>California</td>\n",
       "      <td>No</td>\n",
       "      <td>Premium</td>\n",
       "      <td>College</td>\n",
       "      <td>2/13/11</td>\n",
       "      <td>Employed</td>\n",
       "      <td>F</td>\n",
       "      <td>Urban</td>\n",
       "      <td>Divorced</td>\n",
       "      <td>Personal Auto</td>\n",
       "      <td>Personal L1</td>\n",
       "      <td>Offer1</td>\n",
       "      <td>Branch</td>\n",
       "      <td>SUV</td>\n",
       "      <td>Medsize</td>\n",
       "      <td>A</td>\n",
       "    </tr>\n",
       "    <tr>\n",
       "      <th>10909</th>\n",
       "      <td>NaN</td>\n",
       "      <td>NaN</td>\n",
       "      <td>Basic</td>\n",
       "      <td>Bachelor</td>\n",
       "      <td>1/8/11</td>\n",
       "      <td>Unemployed</td>\n",
       "      <td>M</td>\n",
       "      <td>Suburban</td>\n",
       "      <td>Single</td>\n",
       "      <td>Personal Auto</td>\n",
       "      <td>Personal L1</td>\n",
       "      <td>Offer4</td>\n",
       "      <td>Web</td>\n",
       "      <td>SUV</td>\n",
       "      <td>Medsize</td>\n",
       "      <td>NaN</td>\n",
       "    </tr>\n",
       "  </tbody>\n",
       "</table>\n",
       "<p>10873 rows × 16 columns</p>\n",
       "</div>"
      ],
      "text/plain": [
       "            State Response  Coverage Education Effective To Date  \\\n",
       "0         Arizona       No     Basic   College           2/18/11   \n",
       "1      California       No     Basic   College           1/18/11   \n",
       "2      Washington       No     Basic  Bachelor           2/10/11   \n",
       "3          Oregon      Yes  Extended   College           1/11/11   \n",
       "4          Oregon       No   Premium  Bachelor           1/17/11   \n",
       "...           ...      ...       ...       ...               ...   \n",
       "10905      Nevada       No   Premium  Bachelor           1/19/11   \n",
       "10906      Oregon       No     Basic   College            1/6/11   \n",
       "10907     Arizona       No  Extended  Bachelor            2/6/11   \n",
       "10908  California       No   Premium   College           2/13/11   \n",
       "10909         NaN      NaN     Basic  Bachelor            1/8/11   \n",
       "\n",
       "      EmploymentStatus Gender Location Code Marital Status     Policy Type  \\\n",
       "0             Employed      M      Suburban        Married  Corporate Auto   \n",
       "1           Unemployed      F      Suburban         Single   Personal Auto   \n",
       "2             Employed      M      Suburban         Single   Personal Auto   \n",
       "3             Employed      M      Suburban         Single  Corporate Auto   \n",
       "4        Medical Leave      F      Suburban        Married   Personal Auto   \n",
       "...                ...    ...           ...            ...             ...   \n",
       "10905       Unemployed      F      Suburban        Married   Personal Auto   \n",
       "10906         Employed      F         Urban        Married   Personal Auto   \n",
       "10907         Employed      F         Rural        Married  Corporate Auto   \n",
       "10908         Employed      F         Urban       Divorced   Personal Auto   \n",
       "10909       Unemployed      M      Suburban         Single   Personal Auto   \n",
       "\n",
       "             Policy Renew Offer Type Sales Channel  Vehicle Class  \\\n",
       "0      Corporate L3           Offer3         Agent  Four-Door Car   \n",
       "1       Personal L3           Offer4   Call Center  Four-Door Car   \n",
       "2       Personal L3           Offer3   Call Center            SUV   \n",
       "3      Corporate L3           Offer2        Branch  Four-Door Car   \n",
       "4       Personal L2           Offer1        Branch  Four-Door Car   \n",
       "...             ...              ...           ...            ...   \n",
       "10905   Personal L1           Offer3           Web     Luxury Car   \n",
       "10906   Personal L3           Offer2        Branch  Four-Door Car   \n",
       "10907  Corporate L3           Offer1           Web     Luxury SUV   \n",
       "10908   Personal L1           Offer1        Branch            SUV   \n",
       "10909   Personal L1           Offer4           Web            SUV   \n",
       "\n",
       "      Vehicle Size Vehicle Type  \n",
       "0          Medsize          NaN  \n",
       "1          Medsize          NaN  \n",
       "2          Medsize            A  \n",
       "3          Medsize            A  \n",
       "4          Medsize          NaN  \n",
       "...            ...          ...  \n",
       "10905      Medsize            A  \n",
       "10906      Medsize            A  \n",
       "10907      Medsize          NaN  \n",
       "10908      Medsize            A  \n",
       "10909      Medsize          NaN  \n",
       "\n",
       "[10873 rows x 16 columns]"
      ]
     },
     "execution_count": 502,
     "metadata": {},
     "output_type": "execute_result"
    }
   ],
   "source": [
    "categoricals_features= ca_df.select_dtypes(\"object\")\n",
    "categoricals_features"
   ]
  },
  {
   "cell_type": "code",
   "execution_count": 503,
   "id": "abf6401d",
   "metadata": {
    "scrolled": true
   },
   "outputs": [
    {
     "data": {
      "text/html": [
       "<div>\n",
       "<style scoped>\n",
       "    .dataframe tbody tr th:only-of-type {\n",
       "        vertical-align: middle;\n",
       "    }\n",
       "\n",
       "    .dataframe tbody tr th {\n",
       "        vertical-align: top;\n",
       "    }\n",
       "\n",
       "    .dataframe thead th {\n",
       "        text-align: right;\n",
       "    }\n",
       "</style>\n",
       "<table border=\"1\" class=\"dataframe\">\n",
       "  <thead>\n",
       "    <tr style=\"text-align: right;\">\n",
       "      <th></th>\n",
       "      <th>State_California_1</th>\n",
       "      <th>State_Nevada_1</th>\n",
       "      <th>State_Oregon_1</th>\n",
       "      <th>State_Washington_1</th>\n",
       "      <th>Response_Yes_1</th>\n",
       "      <th>Coverage_Extended_1</th>\n",
       "      <th>Coverage_Premium_1</th>\n",
       "      <th>Education_College_1</th>\n",
       "      <th>Education_Doctor_1</th>\n",
       "      <th>Education_High School or Below_1</th>\n",
       "      <th>...</th>\n",
       "      <th>Sales Channel_Branch_1</th>\n",
       "      <th>Sales Channel_Call Center_1</th>\n",
       "      <th>Sales Channel_Web_1</th>\n",
       "      <th>Vehicle Class_Luxury Car_1</th>\n",
       "      <th>Vehicle Class_Luxury SUV_1</th>\n",
       "      <th>Vehicle Class_SUV_1</th>\n",
       "      <th>Vehicle Class_Sports Car_1</th>\n",
       "      <th>Vehicle Class_Two-Door Car_1</th>\n",
       "      <th>Vehicle Size_Medsize_1</th>\n",
       "      <th>Vehicle Size_Small_1</th>\n",
       "    </tr>\n",
       "  </thead>\n",
       "  <tbody>\n",
       "    <tr>\n",
       "      <th>0</th>\n",
       "      <td>0.0</td>\n",
       "      <td>0.0</td>\n",
       "      <td>0.0</td>\n",
       "      <td>0.0</td>\n",
       "      <td>0.0</td>\n",
       "      <td>0.0</td>\n",
       "      <td>0.0</td>\n",
       "      <td>1.0</td>\n",
       "      <td>0.0</td>\n",
       "      <td>0.0</td>\n",
       "      <td>...</td>\n",
       "      <td>0.0</td>\n",
       "      <td>0.0</td>\n",
       "      <td>0.0</td>\n",
       "      <td>0.0</td>\n",
       "      <td>0.0</td>\n",
       "      <td>0.0</td>\n",
       "      <td>0.0</td>\n",
       "      <td>0.0</td>\n",
       "      <td>1.0</td>\n",
       "      <td>0.0</td>\n",
       "    </tr>\n",
       "    <tr>\n",
       "      <th>1</th>\n",
       "      <td>1.0</td>\n",
       "      <td>0.0</td>\n",
       "      <td>0.0</td>\n",
       "      <td>0.0</td>\n",
       "      <td>0.0</td>\n",
       "      <td>0.0</td>\n",
       "      <td>0.0</td>\n",
       "      <td>1.0</td>\n",
       "      <td>0.0</td>\n",
       "      <td>0.0</td>\n",
       "      <td>...</td>\n",
       "      <td>0.0</td>\n",
       "      <td>1.0</td>\n",
       "      <td>0.0</td>\n",
       "      <td>0.0</td>\n",
       "      <td>0.0</td>\n",
       "      <td>0.0</td>\n",
       "      <td>0.0</td>\n",
       "      <td>0.0</td>\n",
       "      <td>1.0</td>\n",
       "      <td>0.0</td>\n",
       "    </tr>\n",
       "    <tr>\n",
       "      <th>2</th>\n",
       "      <td>0.0</td>\n",
       "      <td>0.0</td>\n",
       "      <td>0.0</td>\n",
       "      <td>1.0</td>\n",
       "      <td>0.0</td>\n",
       "      <td>0.0</td>\n",
       "      <td>0.0</td>\n",
       "      <td>0.0</td>\n",
       "      <td>0.0</td>\n",
       "      <td>0.0</td>\n",
       "      <td>...</td>\n",
       "      <td>0.0</td>\n",
       "      <td>1.0</td>\n",
       "      <td>0.0</td>\n",
       "      <td>0.0</td>\n",
       "      <td>0.0</td>\n",
       "      <td>1.0</td>\n",
       "      <td>0.0</td>\n",
       "      <td>0.0</td>\n",
       "      <td>1.0</td>\n",
       "      <td>0.0</td>\n",
       "    </tr>\n",
       "    <tr>\n",
       "      <th>3</th>\n",
       "      <td>0.0</td>\n",
       "      <td>0.0</td>\n",
       "      <td>1.0</td>\n",
       "      <td>0.0</td>\n",
       "      <td>1.0</td>\n",
       "      <td>1.0</td>\n",
       "      <td>0.0</td>\n",
       "      <td>1.0</td>\n",
       "      <td>0.0</td>\n",
       "      <td>0.0</td>\n",
       "      <td>...</td>\n",
       "      <td>1.0</td>\n",
       "      <td>0.0</td>\n",
       "      <td>0.0</td>\n",
       "      <td>0.0</td>\n",
       "      <td>0.0</td>\n",
       "      <td>0.0</td>\n",
       "      <td>0.0</td>\n",
       "      <td>0.0</td>\n",
       "      <td>1.0</td>\n",
       "      <td>0.0</td>\n",
       "    </tr>\n",
       "    <tr>\n",
       "      <th>4</th>\n",
       "      <td>0.0</td>\n",
       "      <td>0.0</td>\n",
       "      <td>1.0</td>\n",
       "      <td>0.0</td>\n",
       "      <td>0.0</td>\n",
       "      <td>0.0</td>\n",
       "      <td>1.0</td>\n",
       "      <td>0.0</td>\n",
       "      <td>0.0</td>\n",
       "      <td>0.0</td>\n",
       "      <td>...</td>\n",
       "      <td>1.0</td>\n",
       "      <td>0.0</td>\n",
       "      <td>0.0</td>\n",
       "      <td>0.0</td>\n",
       "      <td>0.0</td>\n",
       "      <td>0.0</td>\n",
       "      <td>0.0</td>\n",
       "      <td>0.0</td>\n",
       "      <td>1.0</td>\n",
       "      <td>0.0</td>\n",
       "    </tr>\n",
       "  </tbody>\n",
       "</table>\n",
       "<p>5 rows × 101 columns</p>\n",
       "</div>"
      ],
      "text/plain": [
       "   State_California_1  State_Nevada_1  State_Oregon_1  State_Washington_1  \\\n",
       "0                 0.0             0.0             0.0                 0.0   \n",
       "1                 1.0             0.0             0.0                 0.0   \n",
       "2                 0.0             0.0             0.0                 1.0   \n",
       "3                 0.0             0.0             1.0                 0.0   \n",
       "4                 0.0             0.0             1.0                 0.0   \n",
       "\n",
       "   Response_Yes_1  Coverage_Extended_1  Coverage_Premium_1  \\\n",
       "0             0.0                  0.0                 0.0   \n",
       "1             0.0                  0.0                 0.0   \n",
       "2             0.0                  0.0                 0.0   \n",
       "3             1.0                  1.0                 0.0   \n",
       "4             0.0                  0.0                 1.0   \n",
       "\n",
       "   Education_College_1  Education_Doctor_1  Education_High School or Below_1  \\\n",
       "0                  1.0                 0.0                               0.0   \n",
       "1                  1.0                 0.0                               0.0   \n",
       "2                  0.0                 0.0                               0.0   \n",
       "3                  1.0                 0.0                               0.0   \n",
       "4                  0.0                 0.0                               0.0   \n",
       "\n",
       "   ...  Sales Channel_Branch_1  Sales Channel_Call Center_1  \\\n",
       "0  ...                     0.0                          0.0   \n",
       "1  ...                     0.0                          1.0   \n",
       "2  ...                     0.0                          1.0   \n",
       "3  ...                     1.0                          0.0   \n",
       "4  ...                     1.0                          0.0   \n",
       "\n",
       "   Sales Channel_Web_1  Vehicle Class_Luxury Car_1  \\\n",
       "0                  0.0                         0.0   \n",
       "1                  0.0                         0.0   \n",
       "2                  0.0                         0.0   \n",
       "3                  0.0                         0.0   \n",
       "4                  0.0                         0.0   \n",
       "\n",
       "   Vehicle Class_Luxury SUV_1  Vehicle Class_SUV_1  \\\n",
       "0                         0.0                  0.0   \n",
       "1                         0.0                  0.0   \n",
       "2                         0.0                  1.0   \n",
       "3                         0.0                  0.0   \n",
       "4                         0.0                  0.0   \n",
       "\n",
       "   Vehicle Class_Sports Car_1  Vehicle Class_Two-Door Car_1  \\\n",
       "0                         0.0                           0.0   \n",
       "1                         0.0                           0.0   \n",
       "2                         0.0                           0.0   \n",
       "3                         0.0                           0.0   \n",
       "4                         0.0                           0.0   \n",
       "\n",
       "   Vehicle Size_Medsize_1  Vehicle Size_Small_1  \n",
       "0                     1.0                   0.0  \n",
       "1                     1.0                   0.0  \n",
       "2                     1.0                   0.0  \n",
       "3                     1.0                   0.0  \n",
       "4                     1.0                   0.0  \n",
       "\n",
       "[5 rows x 101 columns]"
      ]
     },
     "execution_count": 503,
     "metadata": {},
     "output_type": "execute_result"
    }
   ],
   "source": [
    "categoricals_features=pd.get_dummies(categoricals_features, drop_first=True)\n",
    "\n",
    "pd.DataFrame(OneHotEncoder(drop='first').fit_transform(categoricals_features).toarray(),\n",
    "\n",
    "columns=OneHotEncoder(drop='first').fit(categoricals_features).get_feature_names(input_features=categoricals_features.columns)).head()"
   ]
  },
  {
   "cell_type": "code",
   "execution_count": null,
   "id": "35ab9f96",
   "metadata": {},
   "outputs": [],
   "source": []
  },
  {
   "cell_type": "markdown",
   "id": "f8b33aac",
   "metadata": {},
   "source": [
    "1. split x/y\n",
    "\n",
    "2. x: devide categorical/numerical\n",
    "categorical: encode\n",
    "\n",
    "x: concatination categorical/numerical\n",
    "\n",
    "split data x_train/x_test\n",
    "\n",
    "x_train: devide categorical_x_train/numerical_x_train\n",
    "x_test: devide categorical_x_test/numerical_x_test\n",
    "\n",
    "x_train/x_test numericals:\n",
    "standardize x_train (x_train use fit --> then apply it for x_train and x_test)\n",
    "quantiletransformer (x_train use fit --> then apply it for x_train and x_test) -->Income, CLV,...\n",
    "\n",
    "x_train: concatination categorical_x_train:/numerical_x_train\n",
    "x_test: concatination categorical_x_test/numerical_x_test\n",
    "\n",
    "\n",
    "\n",
    "\n",
    "1. split x/y\n",
    "\n",
    "2. split data x_train/x_test\n",
    "\n",
    "x_train/x_test numericals:\n",
    "standardize x_train (x_train use fit --> then apply it for x_train and x_test)\n",
    "quantiletransformer (x_train use fit --> then apply it for x_train and x_test) -->Income, CLV,...\n",
    "\n",
    "modelling\n"
   ]
  }
 ],
 "metadata": {
  "kernelspec": {
   "display_name": "Python 3.9.7 64-bit ('base': conda)",
   "language": "python",
   "name": "python397jvsc74a57bd0fd728cfbfdf309c58cb1716ce92887498871f2fbed01fb0dfdf39b6c2f09a82b"
  },
  "language_info": {
   "codemirror_mode": {
    "name": "ipython",
    "version": 3
   },
   "file_extension": ".py",
   "mimetype": "text/x-python",
   "name": "python",
   "nbconvert_exporter": "python",
   "pygments_lexer": "ipython3",
   "version": "3.9.7"
  },
  "toc": {
   "base_numbering": 1,
   "nav_menu": {},
   "number_sections": true,
   "sideBar": true,
   "skip_h1_title": true,
   "title_cell": "Table of Contents",
   "title_sidebar": "Contents",
   "toc_cell": false,
   "toc_position": {},
   "toc_section_display": true,
   "toc_window_display": false
  },
  "varInspector": {
   "cols": {
    "lenName": 16,
    "lenType": 16,
    "lenVar": 40
   },
   "kernels_config": {
    "python": {
     "delete_cmd_postfix": "",
     "delete_cmd_prefix": "del ",
     "library": "var_list.py",
     "varRefreshCmd": "print(var_dic_list())"
    },
    "r": {
     "delete_cmd_postfix": ") ",
     "delete_cmd_prefix": "rm(",
     "library": "var_list.r",
     "varRefreshCmd": "cat(var_dic_list()) "
    }
   },
   "types_to_exclude": [
    "module",
    "function",
    "builtin_function_or_method",
    "instance",
    "_Feature"
   ],
   "window_display": false
  }
 },
 "nbformat": 4,
 "nbformat_minor": 5
}
